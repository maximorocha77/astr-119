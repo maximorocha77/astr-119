{
 "cells": [
  {
   "cell_type": "code",
   "execution_count": null,
   "id": "9d78fedf",
   "metadata": {},
   "outputs": [],
   "source": [
    "#Homework 3 - ASTR 119 - Maximo Rocha\n",
    "%matplotlib inline\n",
    "import numpy as np\n",
    "import matplotlib.pyplot as plt"
   ]
  },
  {
   "cell_type": "code",
   "execution_count": null,
   "id": "a5308248",
   "metadata": {},
   "outputs": [],
   "source": [
    "x = np.arange(0, 2 * np.pi, 0.001) #creates an array x running x = [0, 2*pi] inclusive with 1000 values"
   ]
  },
  {
   "cell_type": "code",
   "execution_count": null,
   "id": "10edf858",
   "metadata": {},
   "outputs": [],
   "source": [
    "funcA = 5.5 * np.cos(2 * x) + 5 #y(x)=5.5cos(2*x)+5.5\n",
    "funcB = 0.02 * np.exp(x) #y(x)=0.02*exp(x)\n",
    "funcC = 0.25 * (x ** 2) + 0.1 * np.sin(10 * x) #y(x)=0.25*x^2+0.1sin(10*x)"
   ]
  },
  {
   "cell_type": "code",
   "execution_count": null,
   "id": "e24faf33",
   "metadata": {},
   "outputs": [],
   "source": [
    "plt.plot(x, funcA)\n",
    "plt.plot(x, funcB)\n",
    "plt.plot(x, funcC)\n",
    "plt.xlim([0, 2 * np.pi]) #sets domain x = [0, 2*pi]\n",
    "plt.ylim([-1, 10]) #sets range y = [-1, 10]\n",
    "plt.xlabel('Time in ASTR 119')\n",
    "plt.ylabel('Measures of Awesomeness')\n",
    "plt.show()"
   ]
  }
 ],
 "metadata": {
  "kernelspec": {
   "display_name": "Python 3 (ipykernel)",
   "language": "python",
   "name": "python3"
  },
  "language_info": {
   "codemirror_mode": {
    "name": "ipython",
    "version": 3
   },
   "file_extension": ".py",
   "mimetype": "text/x-python",
   "name": "python",
   "nbconvert_exporter": "python",
   "pygments_lexer": "ipython3",
   "version": "3.9.7"
  }
 },
 "nbformat": 4,
 "nbformat_minor": 5
}
