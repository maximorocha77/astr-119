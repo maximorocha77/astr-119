{
 "cells": [
  {
   "cell_type": "code",
   "execution_count": null,
   "id": "6d0d362b",
   "metadata": {},
   "outputs": [],
   "source": [
    "%matplotlib inline\n",
    "import matplotlib.pyplot as plt\n",
    "import numpy as np"
   ]
  },
  {
   "cell_type": "code",
   "execution_count": null,
   "id": "b03d854a",
   "metadata": {},
   "outputs": [],
   "source": [
    "#to satisfy part #1-first half and #4 on rubric/promt, tests cos(x) on [0, 1.75]. can try any f(x) as well.\n",
    "#if wanting to test for a different f(x), change so in: the function func(x), a, b, and functionName\n",
    "def func(x): #the next four lines are chosen/determined by user\n",
    "    return np.cos(x) #type in any function... CHOSEN BY USER!!!\n",
    "a = 0 #x lower bound... CHOSEN BY USER!!!\n",
    "b = 1.75 #x upper bound... CHOSEN BY USER!!!\n",
    "functionName = \"f(x) = cos(x)\" #how function will appear in plot... CHOSEN BY USER!!!"
   ]
  },
  {
   "cell_type": "code",
   "execution_count": null,
   "id": "797531b5",
   "metadata": {},
   "outputs": [],
   "source": [
    "#to satifsy part #1 on rubric/promt\n",
    "#generates upper/lower limits of range automatically based on function and domain\n",
    "xBetweenAB = np.arange(a, b, 0.0001)\n",
    "xLength = len(xBetweenAB)\n",
    "yInDomain = [func(xBetweenAB[0])]\n",
    "i = 0\n",
    "while i < (xLength - 1):\n",
    "    i += 1\n",
    "    yInDomain.append(func(xBetweenAB[i]))\n",
    "yLength = len(yInDomain)\n",
    "ySorted = yInDomain.sort()\n",
    "c = yInDomain[0]\n",
    "d = yInDomain[yLength - 1]\n",
    "print(functionName)\n",
    "print(\"x-Lower bound a = \", a)\n",
    "print(\"x-Upper bound b = \", b)\n",
    "print(\"y-Lower bound c = \", c)\n",
    "print(\"y-Upper bound d = \", d)"
   ]
  },
  {
   "cell_type": "code",
   "execution_count": null,
   "id": "cda238d6",
   "metadata": {},
   "outputs": [],
   "source": [
    "num_samples = 10000\n",
    "x = np.random.uniform(a, b, num_samples)\n",
    "y = np.random.uniform(c, d, num_samples)"
   ]
  },
  {
   "cell_type": "code",
   "execution_count": null,
   "id": "95ba10e5",
   "metadata": {},
   "outputs": [],
   "source": [
    "pointsTotalUnderFunc = np.where(y < func(x))[0] \n",
    "pointsTotalAboveFunc = np.where(y >= func(x))[0] "
   ]
  },
  {
   "cell_type": "code",
   "execution_count": null,
   "id": "36668b5c",
   "metadata": {},
   "outputs": [],
   "source": [
    "numPointsForIntegral = len(pointsTotalUnderFunc)\n",
    "fractionOfPointsUnderFunc = numPointsForIntegral / num_samples"
   ]
  },
  {
   "cell_type": "code",
   "execution_count": null,
   "id": "c5fa49e9",
   "metadata": {},
   "outputs": [],
   "source": [
    "integral = (fractionOfPointsUnderFunc)*(d-c)*(b-a)"
   ]
  },
  {
   "cell_type": "code",
   "execution_count": null,
   "id": "933c1cf0",
   "metadata": {},
   "outputs": [],
   "source": [
    "#to satisfy part #2 of rubric/prompt\n",
    "greatestCommonFactor = (b - a) / (10000 * 2)\n",
    "#copy my yInDomain BEFORE it was sorted\n",
    "yInDomain = [func(xBetweenAB[0])]\n",
    "i = 0\n",
    "while i < (xLength - 1):\n",
    "    i += 1\n",
    "    yInDomain.append(func(xBetweenAB[i]))\n",
    "twoTimes_yInDomain = []\n",
    "for j in yInDomain:\n",
    "    twoTimes_yInDomain.append(i * 2)\n",
    "k = 0\n",
    "sum = 0\n",
    "while k < len(twoTimes_yInDomain):\n",
    "    sum = sum + twoTimes_yInDomain[k]\n",
    "    k += 1\n",
    "sumsForTapezoidal = sum - (func(a)) - (func(b)) #to account for shouldn't 2*f(a)and 2*f(b), should be 1/2 this\n",
    "integralTrapezoidal = greatestCommonFactor * sumsForTapezoidal\n",
    "#tolerance can be the absolute difference between MonteCarlo Integral and another method aka Trapezoid\n",
    "absolute_difference = np.fabs(integralTrapezoidal - integral) #\"integral\" is pulled from Monte Carlo"
   ]
  },
  {
   "cell_type": "code",
   "execution_count": null,
   "id": "0438f2e5",
   "metadata": {},
   "outputs": [],
   "source": [
    "#to satisfy part #3 of rubric/promt\n",
    "fig = plt.figure(figsize = (7, 7))\n",
    "plt.plot(x[pointsTotalUnderFunc], y[pointsTotalUnderFunc], '.', color = \"green\")\n",
    "#green because good/yes for integral\n",
    "plt.plot(x[pointsTotalAboveFunc], y[pointsTotalAboveFunc], '.', color = \"red\") \n",
    "#red because bad/no for integral\n",
    "xCoord = np.arange(a, b, 0.00001)\n",
    "yCoord = func(xCoord)\n",
    "plt.plot(xCoord, yCoord, color = \"blue\")\n",
    "#blue to stand out from green and red\n",
    "plt.plot(xCoord, yCoord)\n",
    "#here so I could add F(a, b) to the legend\n",
    "plt.xlim([a, b])\n",
    "plt.ylim([c, d])\n",
    "plt.legend(['Below f(x)', 'Above f(x)', 'f(x)', 'F(a,b) = F(%f, %f) = %f' % (a, b, integral)])\n",
    "plt.xlabel('x')\n",
    "plt.ylabel(functionName)\n",
    "print(functionName)\n",
    "print('F(a,b) = F(%f, %f) = %f' % (a, b, integral))\n",
    "plt.show()\n"
   ]
  },
  {
   "cell_type": "code",
   "execution_count": null,
   "id": "3bad2c13",
   "metadata": {},
   "outputs": [],
   "source": [
    "###Code that I made that could have potential use for integration, but maybe for a different method:\n",
    "###TL;DR: just some \"scratch code\" that I thought could lead somewhere, but didn't end up needing it:\n",
    "###Would not be able to run most of this code, as there's errors just as for syntax with arrays and stuff:\n",
    "#These just showed a generic thought proccess behind some of my code that's already in the program:\n",
    "\n",
    "#pointsTotalUnderFunc = np.where(y < func(x))[0] #Alpha\n",
    "#pointsTotalAboveFunc = np.where(y >= func(x))[0] #Beta\n",
    "#pointsPosAboveFunc = np.where(pointsTotalAboveFunc > 0)[0] #Omega\n",
    "#pointsNegUnderFunc = np.where(pointsTotalUnderFunc < 0)[0] #Phi\n",
    "#pointsPosUnderFunc = (len(pointsTotalUnderFunc)) - (len(pointsNegUnderFunc)) #Sigma\n",
    "#pointsNegAboveFunc = (len(pointsTotalAboveFunc)) - (len(pointsPosAboveFunc)) #Delta\n",
    "#numPointsForIntegral = pointsPosUnderFunc + pointsNegAboveFunc #Points for integral\n",
    "\n",
    "#plt.plot(x[pointsTotalUnderFunc], y[pointsTotalUnderFunc], '.', color = \"green\")\n",
    "#plt.plot(x[pointsTotalAboveFunc], y[pointsTotalAboveFunc], '.', color = \"0.75\")\n",
    "#plt.plot(x[pointsPosAboveFunc], y[pointsPosAboveFunc], '.', color = \"0.75\") \n",
    "#plt.plot(x[pointsNegUnderFunc], y[pointsNegUnderFunc], '.', color = \"0.75\")\n",
    "#plt.plot(x[pointsPosUnderFunc], y[pointsPosUnderFunc], '.', color = \"green\"), but not an array\n",
    "#plt.plot(x[pointsNegAboveFunc], y[pointsNegAboveFunc], '.', color = \"green\"), but not an array"
   ]
  }
 ],
 "metadata": {
  "kernelspec": {
   "display_name": "Python 3 (ipykernel)",
   "language": "python",
   "name": "python3"
  },
  "language_info": {
   "codemirror_mode": {
    "name": "ipython",
    "version": 3
   },
   "file_extension": ".py",
   "mimetype": "text/x-python",
   "name": "python",
   "nbconvert_exporter": "python",
   "pygments_lexer": "ipython3",
   "version": "3.9.7"
  }
 },
 "nbformat": 4,
 "nbformat_minor": 5
}
